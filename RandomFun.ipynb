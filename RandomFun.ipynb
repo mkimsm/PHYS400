{
 "metadata": {
  "name": "RandomFun"
 },
 "nbformat": 3,
 "worksheets": [
  {
   "cells": [
    {
     "cell_type": "code",
     "collapsed": false,
     "input": [],
     "language": "python",
     "outputs": [],
     "prompt_number": 100
    },
    {
     "cell_type": "code",
     "collapsed": false,
     "input": [
      "countdown(90)"
     ],
     "language": "python",
     "outputs": [
      {
       "output_type": "stream",
       "stream": "stdout",
       "text": [
        "90 ...",
        "89 ...",
        "88 ...",
        "87 ...",
        "86 ...",
        "85 ...",
        "84 ...",
        "83 ...",
        "82 ...",
        "81 ...",
        "80 ...",
        "79 ...",
        "78 ...",
        "77 ...",
        "76 ...",
        "75 ...",
        "74 ...",
        "73 ...",
        "72 ...",
        "71 ...",
        "70 ...",
        "69 ...",
        "68 ...",
        "67 ...",
        "66 ...",
        "65 ...",
        "64 ...",
        "63 ...",
        "62 ...",
        "61 ...",
        "Tminus 60 seconds",
        "59 ...",
        "58 ...",
        "57 ...",
        "56 ...",
        "55 ...",
        "54 ...",
        "53 ...",
        "52 ...",
        "51 ...",
        "50 ...",
        "49 ...",
        "48 ...",
        "47 ...",
        "46 ...",
        "45 ...",
        "44 ...",
        "43 ...",
        "42 ...",
        "41 ...",
        "40 ...",
        "39 ...",
        "38 ...",
        "37 ...",
        "36 ...",
        "35 ...",
        "34 ...",
        "33 ...",
        "32 ...",
        "31 ...",
        "Tminus 30 seconds",
        "29 ...",
        "28 ...",
        "27 ...",
        "26 ...",
        "25 ...",
        "24 ...",
        "23 ...",
        "22 ...",
        "21 ...",
        "20 ...",
        "19 ...",
        "18 ...",
        "17 ...",
        "16 ...",
        "15 ...",
        "14 ...",
        "13 ...",
        "12 ...",
        "11 ...",
        "Tminus 10 seconds",
        "9 ...",
        "8 ...",
        "7 ...",
        "6 ...",
        "5 ...",
        "4 ...",
        "3 ...",
        "2 ...",
        "1 ...",
        "We have ignition.",
        "Blastoff!"
       ]
      }
     ],
     "prompt_number": 101
    },
    {
     "cell_type": "code",
     "collapsed": false,
     "input": [
      "def check_fermat(a,b,c,n):",
      "    if n>2 and "
     ],
     "language": "python",
     "outputs": [
      {
       "ename": "SyntaxError",
       "evalue": "invalid syntax (<ipython-input-102-f4d66069dbfa>, line 2)",
       "output_type": "pyerr",
       "traceback": [
        "\u001b[1;36m  File \u001b[1;32m\"<ipython-input-102-f4d66069dbfa>\"\u001b[1;36m, line \u001b[1;32m2\u001b[0m\n\u001b[1;33m    if n>2 and\u001b[0m\n\u001b[1;37m               ^\u001b[0m\n\u001b[1;31mSyntaxError\u001b[0m\u001b[1;31m:\u001b[0m invalid syntax\n"
       ]
      }
     ],
     "prompt_number": 102
    },
    {
     "cell_type": "code",
     "collapsed": true,
     "input": [
      "y=3"
     ],
     "language": "python",
     "outputs": [],
     "prompt_number": 68
    },
    {
     "cell_type": "code",
     "collapsed": false,
     "input": [
      "if x == y:",
      "    print 'x equals y'",
      "else:",
      "    if x < y:",
      "        print 'x is less than y'",
      "    else:",
      "        print 'x is greater than y'"
     ],
     "language": "python",
     "outputs": [
      {
       "output_type": "stream",
       "stream": "stdout",
       "text": [
        "x is less than y"
       ]
      }
     ],
     "prompt_number": 69
    },
    {
     "cell_type": "code",
     "collapsed": true,
     "input": [
      "def is_triangle(a,b,c):",
      "    print 'Do these lengths make a triangle?'",
      "    if a>(b+c) or b>(a+c) or c>(a+b):",
      "        print 'No.'",
      "    else:",
      "        print 'Yes.'"
     ],
     "language": "python",
     "outputs": [],
     "prompt_number": 147
    },
    {
     "cell_type": "code",
     "collapsed": false,
     "input": [
      "is_triangle(1,2,5)"
     ],
     "language": "python",
     "outputs": [
      {
       "output_type": "stream",
       "stream": "stdout",
       "text": [
        "Do these lengths make a triangle?",
        "No."
       ]
      }
     ],
     "prompt_number": 148
    },
    {
     "cell_type": "code",
     "collapsed": true,
     "input": [],
     "language": "python",
     "outputs": []
    }
   ]
  }
 ]
}