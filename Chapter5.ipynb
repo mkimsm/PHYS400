{
 "metadata": {
  "name": "Chapter5"
 },
 "nbformat": 3,
 "worksheets": [
  {
   "cells": [
    {
     "cell_type": "code",
     "collapsed": true,
     "input": [
      "#Problem 2",
      "def is_triangle(a,b,c):",
      "    if a>(b+c) or b>(a+c) or c>(a+b):",
      "        print 'No.'",
      "    else:",
      "        print 'Yes.'"
     ],
     "language": "python",
     "outputs": [],
     "prompt_number": 5
    },
    {
     "cell_type": "code",
     "collapsed": false,
     "input": [
      "is_triangle(1,2,3)"
     ],
     "language": "python",
     "outputs": [
      {
       "output_type": "stream",
       "stream": "stdout",
       "text": [
        "Yes."
       ]
      }
     ],
     "prompt_number": 6
    },
    {
     "cell_type": "code",
     "collapsed": true,
     "input": [
      "def draw(t, length, n):",
      "    if n == 0:",
      "        return",
      "    angle = 50",
      "    fd(t, length*n)",
      "    lt(t, angle)",
      "    draw(t, length, n-1)",
      "    rt(t, 2*angle)",
      "    draw(t, length, n-1)",
      "    lt(t, angle)",
      "    bk(t, length*n)"
     ],
     "language": "python",
     "outputs": [],
     "prompt_number": 8
    },
    {
     "cell_type": "code",
     "collapsed": false,
     "input": [
      "from TurtleWorld import*",
      "world = TurtleWorld()",
      "bob = Turtle()",
      "set_color(bob,'dark green')",
      "set_pen_color(bob,'dark red')",
      "bob.delay = 0.000000000001",
      "draw(bob, 3,7)",
      "",
      "wait_for_user()"
     ],
     "language": "python",
     "outputs": [],
     "prompt_number": 48
    },
    {
     "cell_type": "code",
     "collapsed": true,
     "input": [
      "def koch(t, n):",
      "    if n<3:",
      "        fd(t, n)",
      "        return",
      "    m = n/3.0",
      "    koch(t, m)",
      "    lt(t, 60)",
      "    koch(t, m)",
      "    rt(t, 120)",
      "    koch(t, m)",
      "    lt(t, 60)",
      "    koch(t, m)"
     ],
     "language": "python",
     "outputs": [],
     "prompt_number": 3
    },
    {
     "cell_type": "code",
     "collapsed": false,
     "input": [
      "from TurtleWorld import*",
      "world = TurtleWorld()",
      "bob = Turtle()",
      "set_color(bob,'dark green')",
      "set_pen_color(bob,'black')",
      "bob.x = -180",
      "bob.y = -150",
      "bob.redraw()",
      "bob.delay = 0",
      "koch(bob, 800)",
      "wait_for_user()"
     ],
     "language": "python",
     "outputs": [],
     "prompt_number": 18
    },
    {
     "cell_type": "code",
     "collapsed": true,
     "input": [
      "def snowflake(t, n):",
      "    for i in range(3):",
      "        koch(t, n)",
      "        rt(t, 120)"
     ],
     "language": "python",
     "outputs": [],
     "prompt_number": 19
    },
    {
     "cell_type": "code",
     "collapsed": false,
     "input": [
      "from TurtleWorld import*",
      "world = TurtleWorld()",
      "bob = Turtle()",
      "set_color(bob,'dark green')",
      "set_pen_color(bob,'black')",
      "bob.x = -100",
      "bob.y = -15",
      "bob.redraw()",
      "bob.delay = 0",
      "snowflake(bob, 500)",
      "die(bob)"
     ],
     "language": "python",
     "outputs": [],
     "prompt_number": 21
    },
    {
     "cell_type": "code",
     "collapsed": true,
     "input": [],
     "language": "python",
     "outputs": []
    }
   ]
  }
 ]
}