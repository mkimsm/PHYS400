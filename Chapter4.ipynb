{
 "metadata": {
  "name": "Chapter4"
 },
 "nbformat": 3,
 "worksheets": [
  {
   "cells": [
    {
     "cell_type": "code",
     "collapsed": true,
     "input": [
      "Cha"
     ],
     "language": "python",
     "outputs": []
    }
   ]
  }
 ]
}