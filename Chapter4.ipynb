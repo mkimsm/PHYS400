{
 "metadata": {
  "name": "Chapter4"
 },
 "nbformat": 3,
 "worksheets": [
  {
   "cells": [
    {
     "cell_type": "code",
     "collapsed": true,
     "input": [
      "from TurtleWorld import*"
     ],
     "language": "python",
     "outputs": [],
     "prompt_number": 3
    },
    {
     "cell_type": "code",
     "collapsed": false,
     "input": [
      "world = TurtleWorld();",
      "bob = Turtle();"
     ],
     "language": "python",
     "outputs": [],
     "prompt_number": 86
    },
    {
     "cell_type": "code",
     "collapsed": false,
     "input": [
      "for i in range(4):",
      "    fd(bob,100)",
      "    lt(bob)",
      "wait_for_user()"
     ],
     "language": "python",
     "outputs": [],
     "prompt_number": 7
    },
    {
     "cell_type": "code",
     "collapsed": true,
     "input": [
      "#Problem 1",
      "def square(t):",
      "    for i in range(4):",
      "        fd(t,100)",
      "        lt(t)"
     ],
     "language": "python",
     "outputs": [],
     "prompt_number": 63
    },
    {
     "cell_type": "code",
     "collapsed": false,
     "input": [
      "square(bob)",
      "wait_for_user()"
     ],
     "language": "python",
     "outputs": [],
     "prompt_number": 65
    },
    {
     "cell_type": "code",
     "collapsed": true,
     "input": [
      "#Problem 2",
      "def change_square(t,length):",
      "    for i in range(4):",
      "        fd(t,length)",
      "        lt(t)"
     ],
     "language": "python",
     "outputs": [],
     "prompt_number": 83
    },
    {
     "cell_type": "code",
     "collapsed": false,
     "input": [
      "world = TurtleWorld();",
      "t = Turtle()",
      "change_square(t,200)",
      "wait_for_user()"
     ],
     "language": "python",
     "outputs": [],
     "prompt_number": 90
    },
    {
     "cell_type": "code",
     "collapsed": false,
     "input": [
      "world = TurtleWorld();",
      "bob = Turtle();",
      "change_square(bob,20)",
      "wait_for_user()"
     ],
     "language": "python",
     "outputs": [],
     "prompt_number": 89
    },
    {
     "cell_type": "code",
     "collapsed": true,
     "input": [
      "#Problem 3",
      "def polygon(t,length,n):",
      "    for i in range(n):",
      "        fd(t,length)",
      "        lt(t,360.0/n)"
     ],
     "language": "python",
     "outputs": [],
     "prompt_number": 128
    },
    {
     "cell_type": "code",
     "collapsed": true,
     "input": [
      "world = TurtleWorld();",
      "bob = Turtle();",
      "polygon(bob,20,5)",
      "wait_for_user()"
     ],
     "language": "python",
     "outputs": [],
     "prompt_number": 94
    },
    {
     "cell_type": "code",
     "collapsed": true,
     "input": [
      "world = TurtleWorld();",
      "bob = Turtle();",
      "polygon(bob,50,8)",
      "wait_for_user()"
     ],
     "language": "python",
     "outputs": [],
     "prompt_number": 97
    },
    {
     "cell_type": "code",
     "collapsed": true,
     "input": [
      "#Problem 4",
      "def circle(t,r):",
      "    circum = 2*math.pi*r",
      "    n=100",
      "    polygon(t,circum/n,n)"
     ],
     "language": "python",
     "outputs": [],
     "prompt_number": 9
    },
    {
     "cell_type": "code",
     "collapsed": false,
     "input": [
      "world = TurtleWorld();",
      "bob = Turtle();",
      "bob.delay = 0.01",
      "circle(bob,75)",
      "wait_for_user()"
     ],
     "language": "python",
     "outputs": [],
     "prompt_number": 132
    },
    {
     "cell_type": "code",
     "collapsed": false,
     "input": [
      "world = TurtleWorld();",
      "Mike = Turtle();",
      "Mike.delay = 0.0001",
      "circle(Mike,90)",
      "wait_for_user()"
     ],
     "language": "python",
     "outputs": [],
     "prompt_number": 139
    },
    {
     "cell_type": "code",
     "collapsed": true,
     "input": [
      "#Problem 5",
      "def arc(t,r,angle):",
      "    arc_length = 2*math.pi*r*angle/360",
      "    n = int(arc_length/3)+1",
      "    step_length = arc_length / n",
      "    step_angle = float(angle) / n",
      "    ",
      "    for i in range(n):",
      "        fd(t, step_length)",
      "        lt(t, step_angle)"
     ],
     "language": "python",
     "outputs": [],
     "prompt_number": 10
    },
    {
     "cell_type": "code",
     "collapsed": false,
     "input": [
      "world = TurtleWorld();",
      "bob = Turtle();",
      "bob.delay = 0.001",
      "arc(bob,75,90)",
      "wait_for_user()"
     ],
     "language": "python",
     "outputs": [],
     "prompt_number": 6
    },
    {
     "cell_type": "code",
     "collapsed": true,
     "input": [
      "world = TurtleWorld();",
      "bob = Turtle();",
      "bob.delay = 0.001",
      "arc(bob,75,270)",
      "wait_for_user()"
     ],
     "language": "python",
     "outputs": [],
     "prompt_number": 7
    },
    {
     "cell_type": "code",
     "collapsed": true,
     "input": [
      "world = TurtleWorld();",
      "bob = Turtle();",
      "bob.delay = 0.001",
      "arc(bob,75,328)",
      "wait_for_user()"
     ],
     "language": "python",
     "outputs": [],
     "prompt_number": 8
    },
    {
     "cell_type": "code",
     "collapsed": true,
     "input": [],
     "language": "python",
     "outputs": []
    }
   ]
  }
 ]
}