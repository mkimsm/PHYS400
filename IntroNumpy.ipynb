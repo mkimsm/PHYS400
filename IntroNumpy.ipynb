{
 "metadata": {
  "name": "IntroNumpy"
 },
 "nbformat": 3,
 "worksheets": [
  {
   "cells": [
    {
     "cell_type": "code",
     "collapsed": true,
     "input": [
      "import numpy"
     ],
     "language": "python",
     "outputs": [],
     "prompt_number": 1
    },
    {
     "cell_type": "code",
     "collapsed": false,
     "input": [
      "numpy.zeros(5,float)"
     ],
     "language": "python",
     "outputs": [
      {
       "output_type": "pyout",
       "prompt_number": 4,
       "text": [
        "array([ 0.,  0.,  0.,  0.,  0.])"
       ]
      }
     ],
     "prompt_number": 4
    },
    {
     "cell_type": "code",
     "collapsed": false,
     "input": [
      "numpy.zeros(3,complex)"
     ],
     "language": "python",
     "outputs": [
      {
       "output_type": "pyout",
       "prompt_number": 5,
       "text": [
        "array([ 0.+0.j,  0.+0.j,  0.+0.j])"
       ]
      }
     ],
     "prompt_number": 5
    },
    {
     "cell_type": "code",
     "collapsed": false,
     "input": [
      "np.zeros(3,complex)"
     ],
     "language": "python",
     "outputs": [
      {
       "output_type": "pyout",
       "prompt_number": 6,
       "text": [
        "array([ 0.+0.j,  0.+0.j,  0.+0.j])"
       ]
      }
     ],
     "prompt_number": 6
    },
    {
     "cell_type": "code",
     "collapsed": false,
     "input": [
      "np.ones(5,int)"
     ],
     "language": "python",
     "outputs": [
      {
       "output_type": "pyout",
       "prompt_number": 7,
       "text": [
        "array([ 1.,  1.,  1.,  1.,  1.])"
       ]
      }
     ],
     "prompt_number": 7
    },
    {
     "cell_type": "code",
     "collapsed": false,
     "input": [
      "np.empty(4)"
     ],
     "language": "python",
     "outputs": [
      {
       "output_type": "pyout",
       "prompt_number": 8,
       "text": [
        "array([  4.05063015e-316,   3.18537600e-316,   1.85320229e-316,",
        "         7.01897364e-316])"
       ]
      }
     ],
     "prompt_number": 8
    },
    {
     "cell_type": "code",
     "collapsed": false,
     "input": [
      "np.arange(5)"
     ],
     "language": "python",
     "outputs": [
      {
       "output_type": "pyout",
       "prompt_number": 9,
       "text": [
        "array([0, 1, 2, 3, 4])"
       ]
      }
     ],
     "prompt_number": 9
    },
    {
     "cell_type": "code",
     "collapsed": true,
     "input": [
      "np.arange?"
     ],
     "language": "python",
     "outputs": [],
     "prompt_number": 10
    },
    {
     "cell_type": "code",
     "collapsed": false,
     "input": [
      "np.linspace(0,1,5)"
     ],
     "language": "python",
     "outputs": [
      {
       "output_type": "pyout",
       "prompt_number": 11,
       "text": [
        "array([ 0.  ,  0.25,  0.5 ,  0.75,  1.  ])"
       ]
      }
     ],
     "prompt_number": 11
    },
    {
     "cell_type": "code",
     "collapsed": false,
     "input": [
      "np.logspace(0,10)"
     ],
     "language": "python",
     "outputs": [
      {
       "output_type": "pyout",
       "prompt_number": 12,
       "text": [
        "array([  1.00000000e+00,   1.59985872e+00,   2.55954792e+00,",
        "         4.09491506e+00,   6.55128557e+00,   1.04811313e+01,",
        "         1.67683294e+01,   2.68269580e+01,   4.29193426e+01,",
        "         6.86648845e+01,   1.09854114e+02,   1.75751062e+02,",
        "         2.81176870e+02,   4.49843267e+02,   7.19685673e+02,",
        "         1.15139540e+03,   1.84206997e+03,   2.94705170e+03,",
        "         4.71486636e+03,   7.54312006e+03,   1.20679264e+04,",
        "         1.93069773e+04,   3.08884360e+04,   4.94171336e+04,",
        "         7.90604321e+04,   1.26485522e+05,   2.02358965e+05,",
        "         3.23745754e+05,   5.17947468e+05,   8.28642773e+05,",
        "         1.32571137e+06,   2.12095089e+06,   3.39322177e+06,",
        "         5.42867544e+06,   8.68511374e+06,   1.38949549e+07,",
        "         2.22299648e+07,   3.55648031e+07,   5.68986603e+07,",
        "         9.10298178e+07,   1.45634848e+08,   2.32995181e+08,",
        "         3.72759372e+08,   5.96362332e+08,   9.54095476e+08,",
        "         1.52641797e+09,   2.44205309e+09,   3.90693994e+09,",
        "         6.25055193e+09,   1.00000000e+10])"
       ]
      }
     ],
     "prompt_number": 12
    },
    {
     "cell_type": "code",
     "collapsed": true,
     "input": [],
     "language": "python",
     "outputs": []
    }
   ]
  }
 ]
}